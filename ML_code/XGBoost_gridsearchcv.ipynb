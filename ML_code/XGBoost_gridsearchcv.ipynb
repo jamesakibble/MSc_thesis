{
  "nbformat": 4,
  "nbformat_minor": 0,
  "metadata": {
    "colab": {
      "name": "XGBoost_gridsearchcv.ipynb",
      "provenance": [],
      "collapsed_sections": []
    },
    "kernelspec": {
      "name": "python3",
      "display_name": "Python 3"
    }
  },
  "cells": [
    {
      "cell_type": "markdown",
      "metadata": {
        "id": "P7Uwg3PPEWug"
      },
      "source": [
        "XGBoost harnessing gridsearch cv to determine the best yield prediction parameters. Actual Vs. Predicted yield and feature importance bar plot generated for further analysis of results."
      ]
    },
    {
      "cell_type": "code",
      "metadata": {
        "id": "-f-v7twddLYk"
      },
      "source": [
        "import numpy as np\n",
        "import matplotlib.pyplot as plt\n",
        "import pandas as pd\n",
        "from sklearn.model_selection import GridSearchCV\n",
        "import xgboost as xgb\n",
        "from sklearn.metrics import r2_score\n",
        "from statsmodels.stats.outliers_influence import variance_inflation_factor"
      ],
      "execution_count": 61,
      "outputs": []
    },
    {
      "cell_type": "code",
      "metadata": {
        "id": "wBfxncizddqs"
      },
      "source": [
        "dataset = pd.read_csv('escobal_518_clim.csv')\n",
        "X = dataset.iloc[:, :-1].values\n",
        "y = dataset.iloc[:, -1].values"
      ],
      "execution_count": 62,
      "outputs": []
    },
    {
      "cell_type": "code",
      "metadata": {
        "id": "Q3zOLFIXymoF",
        "colab": {
          "base_uri": "https://localhost:8080/"
        },
        "outputId": "444a89e7-f4a7-4905-b1e9-5d7bc93b8642"
      },
      "source": [
        "#Variance Inflation Factor (VIF) analysis to uncover non-linear collinearity \n",
        "X=dataset.drop([\"Rice_yield\", \"SAVI_ripe\", \"EVI_ripe\", \"NDVI_ripe\", \"NDVI_repro\", \"SAVI_repro\", \"SAVI_veg\", \"NDVI_veg\", \"EVI_veg\", \"total_length\", \"Temp_range\", \"Max_temp\", \"hum\", \"Emer_to_har\", \"Min_temp\", \"Wet_day_freq\", \"Sun_light\", \"Total_precip_days\"], axis=1)\n",
        "vif = pd.DataFrame()\n",
        "vif[\"features\"] = X.columns\n",
        "vif[\"vif_Factor\"] = [variance_inflation_factor(X.values, i) for i in range(X.shape[1])]\n",
        "print(vif)"
      ],
      "execution_count": 63,
      "outputs": [
        {
          "output_type": "stream",
          "text": [
            "         features  vif_Factor\n",
            "0  Seedling_stage    6.542486\n",
            "1    Drought_days    3.961486\n",
            "2       EVI_repro   10.419636\n"
          ],
          "name": "stdout"
        }
      ]
    },
    {
      "cell_type": "code",
      "metadata": {
        "id": "e4-ifMsZdhr0"
      },
      "source": [
        "# Split data 80% train, 20% test for model testing\n",
        "from sklearn.model_selection import train_test_split\n",
        "X_train, X_test, y_train, y_test = train_test_split(X, y, test_size = 0.2, random_state = 42)"
      ],
      "execution_count": 64,
      "outputs": []
    },
    {
      "cell_type": "code",
      "metadata": {
        "id": "hasuNRnlK0WH",
        "colab": {
          "base_uri": "https://localhost:8080/"
        },
        "outputId": "c5acc626-cb62-4f57-e824-c23ba4e2191b"
      },
      "source": [
        "model = xgb.XGBRegressor()\n",
        "param_grid = {\n",
        "    'n_estimators': [300, 400, 500, 600, 800, 1000],\n",
        "    'colsample_bytree': [0.5, 1, 2, 4, 8, 10, 16],\n",
        "    'max_depth': [1,3,5,10, 15],\n",
        "    'reg_alpha': [0.5, 1, 2, 5, 10, 20, 25],\n",
        "    'reg_lambda': [1, 5, 10, 15, 20],\n",
        "    'subsample': [0.5, 1, 2]\n",
        "}\n",
        "\n",
        "model, pred = algorithm_pipeline(X_train, X_test, y_train, y_test, model, \n",
        "                                 param_grid, cv=2)"
      ],
      "execution_count": 65,
      "outputs": [
        {
          "output_type": "stream",
          "text": [
            "Fitting 2 folds for each of 22050 candidates, totalling 44100 fits\n"
          ],
          "name": "stdout"
        },
        {
          "output_type": "stream",
          "text": [
            "[Parallel(n_jobs=-1)]: Using backend LokyBackend with 2 concurrent workers.\n",
            "[Parallel(n_jobs=-1)]: Done 130 tasks      | elapsed:    2.7s\n",
            "[Parallel(n_jobs=-1)]: Done 1098 tasks      | elapsed:   16.0s\n",
            "[Parallel(n_jobs=-1)]: Done 2722 tasks      | elapsed:   40.9s\n",
            "[Parallel(n_jobs=-1)]: Done 4986 tasks      | elapsed:  1.3min\n",
            "[Parallel(n_jobs=-1)]: Done 7906 tasks      | elapsed:  2.0min\n",
            "[Parallel(n_jobs=-1)]: Done 11466 tasks      | elapsed:  2.9min\n",
            "[Parallel(n_jobs=-1)]: Done 24522 tasks      | elapsed:  3.8min\n",
            "[Parallel(n_jobs=-1)]: Done 43946 tasks      | elapsed:  4.6min\n",
            "[Parallel(n_jobs=-1)]: Done 44100 out of 44100 | elapsed:  4.6min finished\n"
          ],
          "name": "stderr"
        },
        {
          "output_type": "stream",
          "text": [
            "[11:00:26] WARNING: /workspace/src/objective/regression_obj.cu:152: reg:linear is now deprecated in favor of reg:squarederror.\n"
          ],
          "name": "stdout"
        }
      ]
    },
    {
      "cell_type": "code",
      "metadata": {
        "id": "9S_7T1Ixhh9P",
        "colab": {
          "base_uri": "https://localhost:8080/"
        },
        "outputId": "a5318105-58e8-494c-cf64-12102278254d"
      },
      "source": [
        "y_pred_grid = model.predict(X_test)\n",
        "from sklearn.metrics import r2_score\n",
        "from sklearn.metrics import mean_squared_error\n",
        "from sklearn.metrics import mean_absolute_error\n",
        "print(r2_score(y_test, y_pred_grid))\n",
        "print(mean_absolute_error(y_test, y_pred_grid))\n",
        "mean_squared_error(y_test, y_pred_grid)\n",
        "print(np.sqrt(mean_squared_error(y_test, y_pred_grid)))\n",
        "model.best_estimator_"
      ],
      "execution_count": 66,
      "outputs": [
        {
          "output_type": "stream",
          "text": [
            "0.9485511693764479\n",
            "191.21169024999986\n",
            "250.95868804601167\n"
          ],
          "name": "stdout"
        },
        {
          "output_type": "execute_result",
          "data": {
            "text/plain": [
              "XGBRegressor(base_score=0.5, booster='gbtree', colsample_bylevel=1,\n",
              "             colsample_bynode=1, colsample_bytree=0.5, gamma=0,\n",
              "             importance_type='gain', learning_rate=0.1, max_delta_step=0,\n",
              "             max_depth=1, min_child_weight=1, missing=None, n_estimators=600,\n",
              "             n_jobs=1, nthread=None, objective='reg:linear', random_state=0,\n",
              "             reg_alpha=0.5, reg_lambda=10, scale_pos_weight=1, seed=None,\n",
              "             silent=None, subsample=0.5, verbosity=1)"
            ]
          },
          "metadata": {
            "tags": []
          },
          "execution_count": 66
        }
      ]
    },
    {
      "cell_type": "code",
      "metadata": {
        "id": "b4s31NMLItxp",
        "colab": {
          "base_uri": "https://localhost:8080/"
        },
        "outputId": "05125482-eb2a-4e6e-a75f-7ff8bc6c6c6f"
      },
      "source": [
        "model.best_params_"
      ],
      "execution_count": 67,
      "outputs": [
        {
          "output_type": "execute_result",
          "data": {
            "text/plain": [
              "{'colsample_bytree': 0.5,\n",
              " 'max_depth': 1,\n",
              " 'n_estimators': 600,\n",
              " 'reg_alpha': 0.5,\n",
              " 'reg_lambda': 10,\n",
              " 'subsample': 0.5}"
            ]
          },
          "metadata": {
            "tags": []
          },
          "execution_count": 67
        }
      ]
    },
    {
      "cell_type": "code",
      "metadata": {
        "id": "8SqxjlyhVY7O",
        "colab": {
          "base_uri": "https://localhost:8080/"
        },
        "outputId": "9ede2602-9d17-4ea7-dcf3-5105ec56caa8"
      },
      "source": [
        "np.set_printoptions(precision=2)\n",
        "print(np.concatenate((y_pred_grid.reshape(len(y_pred_grid), 1), y_test.reshape(len(y_test), 1)), 1))"
      ],
      "execution_count": 68,
      "outputs": [
        {
          "output_type": "stream",
          "text": [
            "[[ 7797.97  7640.67]\n",
            " [10325.28 10336.56]\n",
            " [ 8823.84  9228.89]]\n"
          ],
          "name": "stdout"
        }
      ]
    },
    {
      "cell_type": "code",
      "metadata": {
        "id": "Ic9BY30FSBCE",
        "colab": {
          "base_uri": "https://localhost:8080/",
          "height": 357
        },
        "outputId": "0be96079-52a4-495f-8a5b-9259fa83c2c5"
      },
      "source": [
        "#Predicted vs actual yield scatter graph\n",
        "import seaborn as sns\n",
        "sns.set_style('ticks')\n",
        "sns.regplot(y_pred_grid, y_test, data=dataset, color=\"forestgreen\", fit_reg=False)\n",
        "#np.concatenate((y_pred_grid.reshape(len(y_pred_grid), 1), y_test.reshape(len(y_test), 1)), 1)\n",
        "plt.xlim(7000,10500)\n",
        "plt.ylim(7000,10500)\n",
        "plt.xticks(rotation=45)\n",
        "plt.xlabel(\"Predicted yield (kg/ha)\")\n",
        "plt.ylabel(\"Actual yield (kg/ha)\")\n",
        "sns.despine()\n",
        "plt.savefig('fed67_scatter.png')"
      ],
      "execution_count": 69,
      "outputs": [
        {
          "output_type": "stream",
          "text": [
            "/usr/local/lib/python3.6/dist-packages/seaborn/_decorators.py:43: FutureWarning: Pass the following variables as keyword args: x, y. From version 0.12, the only valid positional argument will be `data`, and passing other arguments without an explicit keyword will result in an error or misinterpretation.\n",
            "  FutureWarning\n"
          ],
          "name": "stderr"
        },
        {
          "output_type": "display_data",
          "data": {
            "image/png": "[encoded data removed]",
            "text/plain": [
              "<Figure size 432x288 with 1 Axes>"
            ]
          },
          "metadata": {
            "tags": []
          }
        }
      ]
    },
    {
      "cell_type": "code",
      "metadata": {
        "id": "4tsHEY8Nppg9",
        "colab": {
          "base_uri": "https://localhost:8080/",
          "height": 296
        },
        "outputId": "ab856161-e35b-4c5a-9f3b-5ff38b888e69"
      },
      "source": [
        "# Feature importance bar plot of variables influence on yield prediction\n",
        "print(model.best_estimator_.feature_importances_)\n",
        "# Plotting\n",
        "plt.bar(range(len(model.best_estimator_.feature_importances_)), model.best_estimator_.feature_importances_)\n",
        "model.best_estimator_. get_booster().get_score(importance_type=\"gain\")\n",
        "plt.xlabel(\"Variable\")\n",
        "plt.ylabel(\"Feature Importance\")\n",
        "plt.show()"
      ],
      "execution_count": 70,
      "outputs": [
        {
          "output_type": "stream",
          "text": [
            "[0.26 0.21 0.53]\n"
          ],
          "name": "stdout"
        },
        {
          "output_type": "display_data",
          "data": {
            "image/png": "[encoded data removed]",
            "text/plain": [
              "<Figure size 432x288 with 1 Axes>"
            ]
          },
          "metadata": {
            "tags": []
          }
        }
      ]
    }
  ]
}