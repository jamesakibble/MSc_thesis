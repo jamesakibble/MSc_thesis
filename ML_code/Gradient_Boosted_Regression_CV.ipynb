{
  "nbformat": 4,
  "nbformat_minor": 0,
  "metadata": {
    "colab": {
      "name": "Gradient_Boosted_Regression_CV.ipynb",
      "provenance": [],
      "collapsed_sections": [],
      "toc_visible": true,
      "authorship_tag": "ABX9TyMuqLz/ddtG8wvwoC1/bEt5",
      "include_colab_link": true
    },
    "kernelspec": {
      "name": "python3",
      "display_name": "Python 3"
    }
  },
  "cells": [
    {
      "cell_type": "markdown",
      "metadata": {
        "id": "view-in-github",
        "colab_type": "text"
      },
      "source": [
        "<a href=\"https://colab.research.google.com/github/jamesakibble/MSc_thesis/blob/main/ML_code/Gradient_Boosted_Regression_CV.ipynb\" target=\"_parent\"><img src=\"https://colab.research.google.com/assets/colab-badge.svg\" alt=\"Open In Colab\"/></a>"
      ]
    },
    {
      "cell_type": "markdown",
      "metadata": {
        "id": "5biznBwpmJz3"
      },
      "source": [
        "Gradient Boosted Regression (GBR) algorithm to determine the best yield prediction parameters. GridsearchCV and RandomizedCV harnessed."
      ]
    },
    {
      "cell_type": "code",
      "metadata": {
        "id": "u13yliMBMm65"
      },
      "source": [
        "import numpy as np\n",
        "import matplotlib.pyplot as plt\n",
        "import pandas as pd\n",
        "import seaborn as sns\n",
        "from statsmodels.stats.outliers_influence import variance_inflation_factor"
      ],
      "execution_count": null,
      "outputs": []
    },
    {
      "cell_type": "code",
      "metadata": {
        "id": "FXyiM0oZMo1P",
        "colab": {
          "base_uri": "https://localhost:8080/"
        },
        "outputId": "89601a9f-3fc4-4c78-833f-0a2cffbeb7ad"
      },
      "source": [
        "# Import cultivar specific dataset with EO, climate, and field measurement variables\n",
        "dataset = pd.read_csv('orizica_use.csv')\n",
        "X = dataset.iloc[:, :-1].values\n",
        "y = dataset.iloc[:, -1].values\n",
        "\n",
        "print(X)"
      ],
      "execution_count": null,
      "outputs": [
        {
          "output_type": "stream",
          "text": [
            "[['MAM' 126 8 134 22.52 29.98 17.0 12.98 455.60000379999997 794.35 972.6\n",
            "  48 4 77.50798593 22301.48 0.306839825 0.793154936 0.494255105\n",
            "  0.260363357 0.6184975229999999 0.405824609 0.22844443600000003\n",
            "  0.5084628179999999 0.369217412]\n",
            " ['MAM' 125 7 132 22.51 29.98 17.0 12.98 444.90000419999996 937.8 1118.2\n",
            "  48 4 76.87226767 22467.8 0.39348584 0.831085657 0.6729999999999999\n",
            "  0.362557959 0.626229982 0.54293627 0.29080284300000003 0.556089854\n",
            "  0.501993792]\n",
            " ['SON' 125 18 143 22.43 30.68 18.13 12.55 543.8000135 913.35 1064.4 45 7\n",
            "  79.10451949 24827.19 0.526354082 0.549536279 0.638432303 0.274975292\n",
            "  0.48904220600000003 0.48165457899999997 0.281546904 0.363410502\n",
            "  0.45406982100000004]\n",
            " ['DJF' 113 16 129 23.9 33.24 18.25 14.99 488.5000063 859.75 1106.9 38 6\n",
            "  74.17561983 26098.33 0.5858536679999999 0.77443927 0.719367998\n",
            "  0.436783762 0.621110552 0.610405073 0.394118198 0.55874479 0.533725595]\n",
            " ['DJF' 131 12 143 22.66 30.45 18.51 11.94 451.9999988 757.6 933.1 55 8\n",
            "  78.60386009 29914.89 0.371099589 0.761989523 0.6859525959999999\n",
            "  0.26302162100000004 0.605431583 0.470781696 0.240663632 0.527823567\n",
            "  0.48892042399999996]\n",
            " ['DJF' 120 18 138 23.9 33.24 18.25 14.99 508.50000650000004 859.75\n",
            "  1106.9 54 6 72.48327009 30263.04 0.6135430000000001 0.73026805\n",
            "  0.5922241 0.47889499999999996 0.5584563770000001 0.622046 0.3603666\n",
            "  0.497040931 0.366576]\n",
            " ['MAM' 124 9 133 23.1 30.77 17.71 13.06 413.7000003 592.0 692.6 58 9\n",
            "  78.39220997 30705.92 0.333248869 0.75919025 0.627737368 0.244057876\n",
            "  0.514133307 0.411459752 0.229693625 0.48349858799999995\n",
            "  0.39518014799999995]\n",
            " ['DJF' 112 22 134 24.23 33.29 18.4 14.89 416.40000269999996 704.15 832.0\n",
            "  54 10 78.85658899 31730.53 0.625781089 0.822484358 0.750520546\n",
            "  0.44176519200000003 0.644676585 0.574993913 0.402113916 0.574386284\n",
            "  0.538172081]\n",
            " ['SON' 125 16 141 22.43 30.68 18.13 12.55 533.5000135 913.35 1064.4 47 8\n",
            "  78.99048564 32090.58 0.576067586 0.729430933 0.787655518 0.358370242\n",
            "  0.585170946 0.577873732 0.34183041 0.504816468 0.52662348]\n",
            " ['DJF' 136 13 149 22.66 30.45 18.35 12.1 457.6999989 757.6 933.1 55 20\n",
            "  70.85459749 36522.36 0.723914664 0.906396148 0.665848231 0.517611471\n",
            "  0.680057175 0.567744256 0.473158466 0.627236416 0.46307400600000004]\n",
            " ['MAM' 131 10 141 23.03 32.23 17.0 15.23 563.9000037000001 844.8 958.0\n",
            "  49 18 65.32124669 36613.45 0.533876233 0.8532315490000001 0.656536668\n",
            "  0.25221061699999997 0.7213360409999999 0.52108219 0.22906903\n",
            "  0.644492515 0.478510699]\n",
            " ['MAM' 125 10 135 22.52 29.98 17.0 12.98 457.8000041 794.35 972.6 51 14\n",
            "  66.22058809 37362.51 0.320044347 0.889345231 0.792690762\n",
            "  0.32483164600000003 0.7835796290000001 0.697982071 0.303721813\n",
            "  0.680078231 0.589999894]\n",
            " ['MAM' 127 8 135 22.51 29.98 17.0 12.98 455.8000041 937.8 1118.2 59 23\n",
            "  63.911781299999994 44956.98 0.5928652329999999 0.768426251\n",
            "  0.7089080740000001 0.530633793 0.664242388 0.5980435000000001\n",
            "  0.450934591 0.575455776 0.522255142]]\n"
          ],
          "name": "stdout"
        }
      ]
    },
    {
      "cell_type": "code",
      "metadata": {
        "id": "AfdUZyY7MsMD"
      },
      "source": [
        "#VIF for multicollinearity testing - variables scoring >=10 removed from modelling to avoid overfitting.\n",
        "X=dataset.drop([\"yield\", \"NDVI_repro\", \"SAVI_ripe\",\"EVI_ripe\", \"NDVI_ripe\", \"EVI_repro\", \"SAVI_veg\", \"EVI_veg\", \"NDVI_veg\", \"SAVI_repro\", \"precip_airport\", \"temp_range\", \"avg_temp\", \"emer_har\", \"total_precip\", \"wet_day_freq\", \"precip_airport_meteo\", \"total_length\", \"max_temp\", \"hum\", \"min_temp\", \"sunlight\"], axis=1)\n",
        "#vif = pd.DataFrame()\n",
        "#vif[\"features\"] = X.columns\n",
        "#vif[\"vif_Factor\"] = [variance_inflation_factor(X.values, i) for i in range(X.shape[1])]\n",
        "#print(vif)"
      ],
      "execution_count": null,
      "outputs": []
    },
    {
      "cell_type": "code",
      "metadata": {
        "id": "yc4MBV7L5vg1"
      },
      "source": [
        "y = y.reshape(len(y),1)"
      ],
      "execution_count": null,
      "outputs": []
    },
    {
      "cell_type": "code",
      "metadata": {
        "id": "SGykAPoJ5wJR"
      },
      "source": [
        "#Encoding categorical variable for model inclusion\r\n",
        "from sklearn.compose import ColumnTransformer\r\n",
        "from sklearn.preprocessing import OneHotEncoder\r\n",
        "ct = ColumnTransformer(transformers=[('encoder', OneHotEncoder(), [0])], remainder='passthrough')\r\n",
        "#pd.get_dummies(dataset, drop_first=True)\r\n",
        "X = np.array(ct.fit_transform(X))"
      ],
      "execution_count": null,
      "outputs": []
    },
    {
      "cell_type": "code",
      "metadata": {
        "id": "tkdiiUU6Muta"
      },
      "source": [
        "#Splitting dataset for model performance testing\n",
        "from sklearn.model_selection import train_test_split\n",
        "X_train, X_test, y_train, y_test = train_test_split(X, y, test_size = 0.2, random_state = 42)"
      ],
      "execution_count": null,
      "outputs": []
    },
    {
      "cell_type": "markdown",
      "metadata": {
        "id": "WXo6fMiop0JN"
      },
      "source": [
        "## RandomizedSearchCV"
      ]
    },
    {
      "cell_type": "code",
      "metadata": {
        "id": "zCjs6wWDMxit",
        "colab": {
          "base_uri": "https://localhost:8080/"
        },
        "outputId": "a4b92ed7-550a-425d-9f95-f9f171df59ed"
      },
      "source": [
        "from sklearn.ensemble import GradientBoostingRegressor\n",
        "regressor = GradientBoostingRegressor()\n",
        "regressor.fit(X_train, y_train)"
      ],
      "execution_count": null,
      "outputs": [
        {
          "output_type": "stream",
          "text": [
            "/usr/local/lib/python3.6/dist-packages/sklearn/ensemble/_gb.py:1454: DataConversionWarning: A column-vector y was passed when a 1d array was expected. Please change the shape of y to (n_samples, ), for example using ravel().\n",
            "  y = column_or_1d(y, warn=True)\n"
          ],
          "name": "stderr"
        },
        {
          "output_type": "execute_result",
          "data": {
            "text/plain": [
              "GradientBoostingRegressor(alpha=0.9, ccp_alpha=0.0, criterion='friedman_mse',\n",
              "                          init=None, learning_rate=0.1, loss='ls', max_depth=3,\n",
              "                          max_features=None, max_leaf_nodes=None,\n",
              "                          min_impurity_decrease=0.0, min_impurity_split=None,\n",
              "                          min_samples_leaf=1, min_samples_split=2,\n",
              "                          min_weight_fraction_leaf=0.0, n_estimators=100,\n",
              "                          n_iter_no_change=None, presort='deprecated',\n",
              "                          random_state=None, subsample=1.0, tol=0.0001,\n",
              "                          validation_fraction=0.1, verbose=0, warm_start=False)"
            ]
          },
          "metadata": {
            "tags": []
          },
          "execution_count": 33
        }
      ]
    },
    {
      "cell_type": "code",
      "metadata": {
        "id": "G1FYcjqKNgoL",
        "colab": {
          "base_uri": "https://localhost:8080/"
        },
        "outputId": "1c17f08f-507c-4b8d-e6d7-404f2bda9bd2"
      },
      "source": [
        "# Randomized cross validation to determine optimum hyprparameters\n",
        "from sklearn.model_selection import RandomizedSearchCV\n",
        "from pprint import pprint\n",
        "\n",
        "# Number of trees in random forest\n",
        "n_estimators = [int(x) for x in np.linspace(start = 750, stop = 5000, num = 1)]\n",
        "# Number of features to consider at every split\n",
        "max_features = ['auto', 'sqrt']\n",
        "# Maximum number of levels in tree\n",
        "max_depth = [int(x) for x in np.linspace(1, 30, num = 1)]\n",
        "max_depth.append(None)\n",
        "# Minimum number of samples required to split a node\n",
        "min_samples_split = [0.5, 1, 2, 4, 8, 16, 20]\n",
        "# Minimum number of samples required at each leaf node\n",
        "min_samples_leaf = [1, 2, 4, 8, 12, 16, 20]\n",
        "\n",
        "learning_rate = [0.001, 0.005, 0.01, 0.04, 0.08, 0.1, 0.5, 1]\n",
        "\n",
        "# Create the random grid\n",
        "random_grid = {'n_estimators': n_estimators,\n",
        "               'max_features': max_features,\n",
        "               'max_depth': max_depth,\n",
        "               'min_samples_split': min_samples_split,\n",
        "               'min_samples_leaf': min_samples_leaf,\n",
        "               'learning_rate': learning_rate}\n",
        "\n",
        "pprint(random_grid)"
      ],
      "execution_count": null,
      "outputs": [
        {
          "output_type": "stream",
          "text": [
            "{'learning_rate': [0.001, 0.005, 0.01, 0.04, 0.08, 0.1, 0.5, 1],\n",
            " 'max_depth': [1, None],\n",
            " 'max_features': ['auto', 'sqrt'],\n",
            " 'min_samples_leaf': [1, 2, 4, 8, 12, 16, 20],\n",
            " 'min_samples_split': [0.5, 1, 2, 4, 8, 16, 20],\n",
            " 'n_estimators': [750]}\n"
          ],
          "name": "stdout"
        }
      ]
    },
    {
      "cell_type": "code",
      "metadata": {
        "id": "wRBbNqEOPTTe",
        "colab": {
          "base_uri": "https://localhost:8080/"
        },
        "outputId": "76b77795-f12d-4c3c-b535-f8af96a47047"
      },
      "source": [
        "regressor = GradientBoostingRegressor(random_state=42)\n",
        "regressor_random = RandomizedSearchCV(estimator=regressor, param_distributions=random_grid, n_iter=10000, cv=10, verbose=5, random_state=42, n_jobs=-1)\n",
        "regressor_random.fit(X_train, y_train)"
      ],
      "execution_count": null,
      "outputs": [
        {
          "output_type": "stream",
          "text": [
            "/usr/local/lib/python3.6/dist-packages/sklearn/model_selection/_search.py:281: UserWarning: The total space of parameters 1568 is smaller than n_iter=10000. Running 1568 iterations. For exhaustive searches, use GridSearchCV.\n",
            "  % (grid_size, self.n_iter, grid_size), UserWarning)\n",
            "[Parallel(n_jobs=-1)]: Using backend LokyBackend with 2 concurrent workers.\n"
          ],
          "name": "stderr"
        },
        {
          "output_type": "stream",
          "text": [
            "Fitting 10 folds for each of 1568 candidates, totalling 15680 fits\n"
          ],
          "name": "stdout"
        },
        {
          "output_type": "stream",
          "text": [
            "[Parallel(n_jobs=-1)]: Done  14 tasks      | elapsed:    1.3s\n",
            "[Parallel(n_jobs=-1)]: Done 210 tasks      | elapsed:   22.9s\n",
            "[Parallel(n_jobs=-1)]: Done 570 tasks      | elapsed:  1.0min\n",
            "[Parallel(n_jobs=-1)]: Done 1065 tasks      | elapsed:  1.9min\n",
            "[Parallel(n_jobs=-1)]: Done 1388 tasks      | elapsed:  2.5min\n",
            "[Parallel(n_jobs=-1)]: Done 1784 tasks      | elapsed:  3.2min\n",
            "[Parallel(n_jobs=-1)]: Done 2252 tasks      | elapsed:  4.1min\n",
            "[Parallel(n_jobs=-1)]: Done 2792 tasks      | elapsed:  5.0min\n",
            "[Parallel(n_jobs=-1)]: Done 3404 tasks      | elapsed:  6.2min\n",
            "[Parallel(n_jobs=-1)]: Done 4088 tasks      | elapsed:  7.4min\n",
            "[Parallel(n_jobs=-1)]: Done 4844 tasks      | elapsed:  8.8min\n",
            "[Parallel(n_jobs=-1)]: Done 5672 tasks      | elapsed: 10.3min\n",
            "[Parallel(n_jobs=-1)]: Done 6572 tasks      | elapsed: 11.9min\n",
            "[Parallel(n_jobs=-1)]: Done 7544 tasks      | elapsed: 13.7min\n",
            "[Parallel(n_jobs=-1)]: Done 8588 tasks      | elapsed: 15.5min\n",
            "[Parallel(n_jobs=-1)]: Done 9704 tasks      | elapsed: 17.6min\n",
            "[Parallel(n_jobs=-1)]: Done 10892 tasks      | elapsed: 19.7min\n",
            "[Parallel(n_jobs=-1)]: Done 12152 tasks      | elapsed: 22.0min\n",
            "[Parallel(n_jobs=-1)]: Done 13484 tasks      | elapsed: 24.4min\n",
            "[Parallel(n_jobs=-1)]: Done 14888 tasks      | elapsed: 26.9min\n",
            "[Parallel(n_jobs=-1)]: Done 15680 out of 15680 | elapsed: 28.4min finished\n",
            "/usr/local/lib/python3.6/dist-packages/sklearn/ensemble/_gb.py:1454: DataConversionWarning: A column-vector y was passed when a 1d array was expected. Please change the shape of y to (n_samples, ), for example using ravel().\n",
            "  y = column_or_1d(y, warn=True)\n"
          ],
          "name": "stderr"
        },
        {
          "output_type": "execute_result",
          "data": {
            "text/plain": [
              "RandomizedSearchCV(cv=10, error_score=nan,\n",
              "                   estimator=GradientBoostingRegressor(alpha=0.9, ccp_alpha=0.0,\n",
              "                                                       criterion='friedman_mse',\n",
              "                                                       init=None,\n",
              "                                                       learning_rate=0.1,\n",
              "                                                       loss='ls', max_depth=3,\n",
              "                                                       max_features=None,\n",
              "                                                       max_leaf_nodes=None,\n",
              "                                                       min_impurity_decrease=0.0,\n",
              "                                                       min_impurity_split=None,\n",
              "                                                       min_samples_leaf=1,\n",
              "                                                       min_samples_split=2,\n",
              "                                                       min_weight_fraction_leaf=0.0,\n",
              "                                                       n_estimators=100,\n",
              "                                                       n...\n",
              "                   iid='deprecated', n_iter=10000, n_jobs=-1,\n",
              "                   param_distributions={'learning_rate': [0.001, 0.005, 0.01,\n",
              "                                                          0.04, 0.08, 0.1, 0.5,\n",
              "                                                          1],\n",
              "                                        'max_depth': [1, None],\n",
              "                                        'max_features': ['auto', 'sqrt'],\n",
              "                                        'min_samples_leaf': [1, 2, 4, 8, 12, 16,\n",
              "                                                             20],\n",
              "                                        'min_samples_split': [0.5, 1, 2, 4, 8,\n",
              "                                                              16, 20],\n",
              "                                        'n_estimators': [750]},\n",
              "                   pre_dispatch='2*n_jobs', random_state=42, refit=True,\n",
              "                   return_train_score=False, scoring=None, verbose=5)"
            ]
          },
          "metadata": {
            "tags": []
          },
          "execution_count": 35
        }
      ]
    },
    {
      "cell_type": "code",
      "metadata": {
        "id": "Y-aPD-UeUeaH",
        "colab": {
          "base_uri": "https://localhost:8080/"
        },
        "outputId": "d1e97bac-c23c-4ca3-a085-7350c81aae4b"
      },
      "source": [
        "# R2, MAE, and RMSE results\n",
        "y_pred = regressor_random.predict(X_test)\n",
        "from sklearn.metrics import r2_score\n",
        "from sklearn.metrics import mean_squared_error\n",
        "from sklearn.metrics import mean_absolute_error\n",
        "print(r2_score(y_test, y_pred))\n",
        "print(mean_absolute_error(y_test, y_pred))\n",
        "mean_squared_error(y_test, y_pred)\n",
        "print(np.sqrt(mean_squared_error(y_test, y_pred)))"
      ],
      "execution_count": null,
      "outputs": [
        {
          "output_type": "stream",
          "text": [
            "0.7209827022826731\n",
            "340.62685137031684\n",
            "386.26846464891605\n"
          ],
          "name": "stdout"
        }
      ]
    },
    {
      "cell_type": "code",
      "metadata": {
        "id": "sQBRMTUpouSK",
        "colab": {
          "base_uri": "https://localhost:8080/"
        },
        "outputId": "4806083e-e130-417a-c559-491b24a1bc8c"
      },
      "source": [
        "regressor_random.best_params_"
      ],
      "execution_count": null,
      "outputs": [
        {
          "output_type": "execute_result",
          "data": {
            "text/plain": [
              "{'learning_rate': 0.001,\n",
              " 'max_depth': 1,\n",
              " 'max_features': 'auto',\n",
              " 'min_samples_leaf': 1,\n",
              " 'min_samples_split': 0.5,\n",
              " 'n_estimators': 750}"
            ]
          },
          "metadata": {
            "tags": []
          },
          "execution_count": 22
        }
      ]
    },
    {
      "cell_type": "code",
      "metadata": {
        "colab": {
          "base_uri": "https://localhost:8080/"
        },
        "id": "SfjQuf6tb3tg",
        "outputId": "e40a6b28-f32d-4619-892d-3462d8b449fb"
      },
      "source": [
        "# Comparing model predicted yield to actual yield values\r\n",
        "np.set_printoptions(precision=2)\r\n",
        "print(np.concatenate((y_pred.reshape(len(y_pred), 1), y_test.reshape(len(y_test), 1)), 1))"
      ],
      "execution_count": null,
      "outputs": [
        {
          "output_type": "stream",
          "text": [
            "[[8472.28 8142.17]\n",
            " [8900.04 9468.82]\n",
            " [7886.2  7763.21]]\n"
          ],
          "name": "stdout"
        }
      ]
    },
    {
      "cell_type": "code",
      "metadata": {
        "colab": {
          "base_uri": "https://localhost:8080/",
          "height": 357
        },
        "id": "y_Pozq-ab4a-",
        "outputId": "f008972e-00a8-4d3f-9564-28315f686dc6"
      },
      "source": [
        "#Predicted vs actual yield scatter graph\r\n",
        "import seaborn as sns\r\n",
        "sns.set_style('ticks')\r\n",
        "sns.regplot(y_pred, y_test, data=dataset, color=\"forestgreen\", fit_reg=False)\r\n",
        "#np.concatenate((y_pred_grid.reshape(len(y_pred_grid), 1), y_test.reshape(len(y_test), 1)), 1)\r\n",
        "plt.xlim(7000,10500)\r\n",
        "plt.ylim(7000,10500)\r\n",
        "plt.xticks(rotation=45)\r\n",
        "plt.xlabel(\"Predicted yield (kg/ha)\")\r\n",
        "plt.ylabel(\"Actual yield (kg/ha)\")\r\n",
        "sns.despine()\r\n",
        "plt.savefig('orizica_scatter.png')"
      ],
      "execution_count": null,
      "outputs": [
        {
          "output_type": "stream",
          "text": [
            "/usr/local/lib/python3.6/dist-packages/seaborn/_decorators.py:43: FutureWarning: Pass the following variables as keyword args: x, y. From version 0.12, the only valid positional argument will be `data`, and passing other arguments without an explicit keyword will result in an error or misinterpretation.\n",
            "  FutureWarning\n"
          ],
          "name": "stderr"
        },
        {
          "output_type": "display_data",
          "data": {
            "image/png": "[encoded data removed]",
            "text/plain": [
              "<Figure size 432x288 with 1 Axes>"
            ]
          },
          "metadata": {
            "tags": []
          }
        }
      ]
    },
    {
      "cell_type": "markdown",
      "metadata": {
        "id": "WnTasRNzp-Eb"
      },
      "source": [
        "## GridSearchCV"
      ]
    },
    {
      "cell_type": "code",
      "metadata": {
        "id": "mu6Uq81LpsLL"
      },
      "source": [
        "# Attempting gridsearch cross validation for hyperparameter tuning\n",
        "from sklearn.model_selection import GridSearchCV\n",
        "\n",
        "param_grid = {'n_estimators': [600, 800, 1000, 1200],\n",
        "               'max_features': [1,2],\n",
        "               'max_depth': [0.5, 1, 3, 4, 5, 7],\n",
        "               'min_samples_split': [1, 2, 3, 6, 10],\n",
        "               'min_samples_leaf': [1, 2, 5, 10, 20],\n",
        "               'learning_rate': [0.001, 0.01, 0.05, 0.1]}\n",
        "\n",
        "regressor = GradientBoostingRegressor(random_state=42)\n",
        "\n",
        "grid_search = GridSearchCV(estimator=regressor, param_grid=param_grid, cv=2, verbose=2, return_train_score=True)\n",
        "\n",
        "grid_search.fit(X_train, y_train)\n",
        "\n",
        "grid_search.best_estimator_"
      ],
      "execution_count": null,
      "outputs": []
    },
    {
      "cell_type": "code",
      "metadata": {
        "id": "J6YYFroHyT1g",
        "colab": {
          "base_uri": "https://localhost:8080/"
        },
        "outputId": "014e8d20-da48-47eb-8f09-b2bdbfc47431"
      },
      "source": [
        "grid_search.best_params_"
      ],
      "execution_count": null,
      "outputs": [
        {
          "output_type": "execute_result",
          "data": {
            "text/plain": [
              "{'learning_rate': 0.02,\n",
              " 'max_depth': 1,\n",
              " 'max_features': 1,\n",
              " 'min_samples_leaf': 1,\n",
              " 'min_samples_split': 2,\n",
              " 'n_estimators': 1200}"
            ]
          },
          "metadata": {
            "tags": []
          },
          "execution_count": 37
        }
      ]
    },
    {
      "cell_type": "code",
      "metadata": {
        "id": "vltRBr7Tvvnj",
        "colab": {
          "base_uri": "https://localhost:8080/"
        },
        "outputId": "8414ac9d-2ac0-4540-f80f-6c6e493e7412"
      },
      "source": [
        "# R2, MAE, RMSE\n",
        "y_pred_grid = grid_search.predict(X_test)\n",
        "from sklearn.metrics import r2_score\n",
        "from sklearn.metrics import mean_squared_error\n",
        "from sklearn.metrics import mean_absolute_error\n",
        "print(r2_score(y_test, y_pred_grid))\n",
        "print(mean_absolute_error(y_test, y_pred_grid))\n",
        "mean_squared_error(y_test, y_pred_grid)\n",
        "print(np.sqrt(mean_squared_error(y_test, y_pred_grid)))"
      ],
      "execution_count": null,
      "outputs": [
        {
          "output_type": "stream",
          "text": [
            "0.33674631917053144\n",
            "468.25231485593304\n",
            "595.5435475841767\n"
          ],
          "name": "stdout"
        }
      ]
    }
  ]
}