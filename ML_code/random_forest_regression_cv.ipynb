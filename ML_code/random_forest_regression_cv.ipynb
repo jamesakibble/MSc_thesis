{
  "nbformat": 4,
  "nbformat_minor": 0,
  "metadata": {
    "colab": {
      "name": "random_forest_regression_cv.ipynb",
      "provenance": [],
      "collapsed_sections": [],
      "toc_visible": true,
      "include_colab_link": true
    },
    "kernelspec": {
      "name": "python3",
      "display_name": "Python 3"
    }
  },
  "cells": [
    {
      "cell_type": "markdown",
      "metadata": {
        "id": "view-in-github",
        "colab_type": "text"
      },
      "source": [
        "<a href=\"https://colab.research.google.com/github/jamesakibble/MSc_thesis/blob/main/random_forest_regression_cv.ipynb\" target=\"_parent\"><img src=\"https://colab.research.google.com/assets/colab-badge.svg\" alt=\"Open In Colab\"/></a>"
      ]
    },
    {
      "cell_type": "markdown",
      "metadata": {
        "id": "LeamvpPVXuS_"
      },
      "source": [
        "# Random Forest Regression"
      ]
    },
    {
      "cell_type": "markdown",
      "metadata": {
        "id": "O2wvZ7SKXzVC"
      },
      "source": [
        "## Importing the libraries"
      ]
    },
    {
      "cell_type": "code",
      "metadata": {
        "id": "PVmESEFZX4Ig"
      },
      "source": [
        "import numpy as np\n",
        "import matplotlib.pyplot as plt\n",
        "import pandas as pd\n",
        "import seaborn as sns\n",
        "from statsmodels.stats.outliers_influence import variance_inflation_factor"
      ],
      "execution_count": 12,
      "outputs": []
    },
    {
      "cell_type": "markdown",
      "metadata": {
        "id": "zgbK_F8-X7em"
      },
      "source": [
        "## Importing the dataset, feature importance, collinearity"
      ]
    },
    {
      "cell_type": "code",
      "metadata": {
        "id": "adBE4tjQX_Bh",
        "colab": {
          "base_uri": "https://localhost:8080/"
        },
        "outputId": "aed41c66-553a-445b-a847-88afac51a94f"
      },
      "source": [
        "# Import cultivar specific dataset with EO, climate, and field measurement variables\n",
        "dataset = pd.read_csv('escobal_518_use.csv')\n",
        "X = dataset.iloc[:, :-1].values\n",
        "y = dataset.iloc[:, -1].values\n",
        "X=dataset.drop([\"yield\", \"seed_stage\", \"SAVI_ripe\", \"EVI_ripe\", \"NDVI_ripe\", \"EVI_repro\", \"NDVI_veg\", \"SAVI_veg\", \"SAVI_repro\", \"EVI_veg\", \"precip_airport\", \"temp_range\", \"avg_temp\", \"emer_har\", \"total_precip\", \"wet_day_freq\", \"precip_airport_meteo\", \"total_length\", \"max_temp\", \"hum\", \"min_temp\", \"sunlight\"], axis=1)\n",
        "print(X)"
      ],
      "execution_count": 13,
      "outputs": [
        {
          "output_type": "stream",
          "text": [
            "   emer_season  drought_days  NDVI_repro\n",
            "0          JJA             4    0.845333\n",
            "1          JJA             8    0.793112\n",
            "2          SON             6    0.784710\n",
            "3          SON             7    0.743301\n",
            "4          MAM             4    0.821960\n",
            "5          MAM             8    0.825233\n",
            "6          MAM             6    0.778119\n",
            "7          MAM             6    0.825286\n",
            "8          SON             6    0.748486\n",
            "9          DJF             6    0.748462\n",
            "10         JJA            20    0.876790\n",
            "11         MAM             8    0.844424\n",
            "12         JJA            11    0.874029\n",
            "13         MAM            22    0.866992\n"
          ],
          "name": "stdout"
        }
      ]
    },
    {
      "cell_type": "code",
      "metadata": {
        "id": "-r4p8_YXijSC"
      },
      "source": [
        "y = y.reshape(len(y),1)"
      ],
      "execution_count": 14,
      "outputs": []
    },
    {
      "cell_type": "code",
      "metadata": {
        "id": "mW5FGzC7LL3A"
      },
      "source": [
        "#Encoding categorical variable for model inclusion\n",
        "from sklearn.compose import ColumnTransformer\n",
        "from sklearn.preprocessing import OneHotEncoder\n",
        "ct = ColumnTransformer(transformers=[('encoder', OneHotEncoder(), [0])], remainder='passthrough')\n",
        "pd.get_dummies(dataset, drop_first=True)\n",
        "X = np.array(ct.fit_transform(X))"
      ],
      "execution_count": 15,
      "outputs": []
    },
    {
      "cell_type": "code",
      "metadata": {
        "id": "3ScSNhQvifQW"
      },
      "source": [
        "#VIF test of multicollinearity - used on continuous data with variables >= removed from further modelling.\n",
        "#X=dataset.drop([\"Rice_yield\", \"SAVI_ripe\", \"EVI_ripe\", \"NDVI_ripe\", \"NDVI_veg\", \"SAVI_repro\", \"SAVI_veg\", \"NDVI_veg\", \"EVI_veg\", \"total_length\", \"Temp_range\", \"Max_temp\", \"hum\", \"Emer_to_har\", \"Min_temp\", \"Wet_day_freq\", \"Sun_light\", \"Total_precip_days\"], axis=1)\n",
        "#vif = np.array(X, dtype=int)\n",
        "#vif\n",
        "#vif[\"features\"] = X.columns\n",
        "#vif[\"vif_Factor\"] = [variance_inflation_factor(X.values, i) for i in range(X.shape[1])]\n",
        "#print(vif)"
      ],
      "execution_count": null,
      "outputs": []
    },
    {
      "cell_type": "markdown",
      "metadata": {
        "id": "ptNjcy7bOBlD"
      },
      "source": [
        "## Splitting the dataset into the Training set and Test set"
      ]
    },
    {
      "cell_type": "code",
      "metadata": {
        "id": "C7NdofoCOFQF"
      },
      "source": [
        "from sklearn.model_selection import train_test_split\n",
        "X_train, X_test, y_train, y_test = train_test_split(X, y, test_size = 0.2, random_state = 42)"
      ],
      "execution_count": 16,
      "outputs": []
    },
    {
      "cell_type": "markdown",
      "metadata": {
        "id": "v4S2fyIBYDcu"
      },
      "source": [
        "## Training the Random Forest Regression model on the whole dataset"
      ]
    },
    {
      "cell_type": "code",
      "metadata": {
        "id": "o8dOCoJ1YKMc"
      },
      "source": [
        "from sklearn.ensemble import RandomForestRegressor\n",
        "regressor = RandomForestRegressor(random_state = 42)"
      ],
      "execution_count": 17,
      "outputs": []
    },
    {
      "cell_type": "markdown",
      "metadata": {
        "id": "1u1KogcctIsn"
      },
      "source": [
        "## Randomised CV"
      ]
    },
    {
      "cell_type": "code",
      "metadata": {
        "id": "BPrmxcQstFSk",
        "colab": {
          "base_uri": "https://localhost:8080/"
        },
        "outputId": "ebb3bdbc-3132-490d-f50a-ab2598be2b4d"
      },
      "source": [
        "# Ramdomised Cross Validation of random forest algoritm to tune hyperparameters for optimum results\n",
        "from sklearn.model_selection import RandomizedSearchCV\n",
        "from pprint import pprint\n",
        "\n",
        "# Number of trees in random forest\n",
        "n_estimators = [int(x) for x in np.linspace(start = 1000, stop = 5000, num = 10)]\n",
        "# Number of features to consider at every split\n",
        "max_features = ['auto', 'sqrt']\n",
        "# Maximum number of levels in tree\n",
        "max_depth = [int(x) for x in np.linspace(1, 10, num = 1)]\n",
        "max_depth.append(None)\n",
        "# Minimum number of samples required to split a node\n",
        "min_samples_split = [2, 5, 10, 12, 14]\n",
        "# Minimum number of samples required at each leaf node\n",
        "min_samples_leaf = [1, 2, 4, 6, 8, 10]\n",
        "# Method of selecting samples for training each tree\n",
        "bootstrap = [True, False]\n",
        "\n",
        "# Create the random grid\n",
        "random_grid = {'n_estimators': n_estimators,\n",
        "               'max_features': max_features,\n",
        "               'max_depth': max_depth,\n",
        "               'min_samples_split': min_samples_split,\n",
        "               'min_samples_leaf': min_samples_leaf,\n",
        "               'bootstrap': bootstrap}\n",
        "\n",
        "pprint(random_grid)"
      ],
      "execution_count": 18,
      "outputs": [
        {
          "output_type": "stream",
          "text": [
            "{'bootstrap': [True, False],\n",
            " 'max_depth': [1, None],\n",
            " 'max_features': ['auto', 'sqrt'],\n",
            " 'min_samples_leaf': [1, 2, 4, 6, 8, 10],\n",
            " 'min_samples_split': [2, 5, 10, 12, 14],\n",
            " 'n_estimators': [1000, 1444, 1888, 2333, 2777, 3222, 3666, 4111, 4555, 5000]}\n"
          ],
          "name": "stdout"
        }
      ]
    },
    {
      "cell_type": "code",
      "metadata": {
        "id": "Z1Tm6ur2taaM",
        "colab": {
          "base_uri": "https://localhost:8080/"
        },
        "outputId": "fe7e356b-a9e6-4ce4-c146-004c5439527c"
      },
      "source": [
        "# Use the random grid to search for best hyperparameters\n",
        "# First create the base model to tune\n",
        "regressor = RandomForestRegressor(random_state = 42)\n",
        "# Random search of parameters, using 3 fold cross validation, \n",
        "# search across 100 different combinations, and use all available cores\n",
        "regressor_random = RandomizedSearchCV(estimator=regressor, param_distributions=random_grid,\n",
        "                              n_iter = 100, scoring='neg_mean_absolute_error', \n",
        "                              cv = 5, verbose=2, random_state=42, n_jobs=-1,\n",
        "                              return_train_score=True)\n",
        "\n",
        "# Fit the random search model\n",
        "regressor_random.fit(X_train, y_train);"
      ],
      "execution_count": 19,
      "outputs": [
        {
          "output_type": "stream",
          "text": [
            "Fitting 5 folds for each of 100 candidates, totalling 500 fits\n"
          ],
          "name": "stdout"
        },
        {
          "output_type": "stream",
          "text": [
            "[Parallel(n_jobs=-1)]: Using backend LokyBackend with 2 concurrent workers.\n",
            "[Parallel(n_jobs=-1)]: Done  37 tasks      | elapsed:  1.9min\n",
            "[Parallel(n_jobs=-1)]: Done 158 tasks      | elapsed:  7.3min\n",
            "[Parallel(n_jobs=-1)]: Done 361 tasks      | elapsed: 15.8min\n",
            "[Parallel(n_jobs=-1)]: Done 500 out of 500 | elapsed: 22.2min finished\n",
            "/usr/local/lib/python3.6/dist-packages/sklearn/model_selection/_search.py:739: DataConversionWarning: A column-vector y was passed when a 1d array was expected. Please change the shape of y to (n_samples,), for example using ravel().\n",
            "  self.best_estimator_.fit(X, y, **fit_params)\n"
          ],
          "name": "stderr"
        }
      ]
    },
    {
      "cell_type": "code",
      "metadata": {
        "id": "Iq8-4LoTvdAH",
        "colab": {
          "base_uri": "https://localhost:8080/"
        },
        "outputId": "1d2484e3-b04d-4264-fb35-4c98379baea6"
      },
      "source": [
        "regressor_random.best_params_"
      ],
      "execution_count": 20,
      "outputs": [
        {
          "output_type": "execute_result",
          "data": {
            "text/plain": [
              "{'bootstrap': False,\n",
              " 'max_depth': 1,\n",
              " 'max_features': 'auto',\n",
              " 'min_samples_leaf': 4,\n",
              " 'min_samples_split': 5,\n",
              " 'n_estimators': 3666}"
            ]
          },
          "metadata": {
            "tags": []
          },
          "execution_count": 20
        }
      ]
    },
    {
      "cell_type": "code",
      "metadata": {
        "id": "a7y1rXlfOZJo",
        "colab": {
          "base_uri": "https://localhost:8080/"
        },
        "outputId": "ad631108-7ea1-4360-e9d5-c8593c243c31"
      },
      "source": [
        "y_pred = regressor_random.predict(X_test)\n",
        "from sklearn.metrics import r2_score\n",
        "from sklearn.metrics import mean_squared_error\n",
        "from sklearn.metrics import mean_absolute_error\n",
        "print(r2_score(y_test, y_pred))\n",
        "print(mean_absolute_error(y_test, y_pred))\n",
        "mean_squared_error(y_test, y_pred)\n",
        "print(np.sqrt(mean_squared_error(y_test, y_pred)))\n",
        "\n",
        "# regressor_random.fit(X_train, y_train)"
      ],
      "execution_count": 21,
      "outputs": [
        {
          "output_type": "stream",
          "text": [
            "0.8003840992277567\n",
            "376.382306916534\n",
            "484.1862184710697\n"
          ],
          "name": "stdout"
        }
      ]
    },
    {
      "cell_type": "code",
      "metadata": {
        "id": "5kqeb7yy9uAb",
        "colab": {
          "base_uri": "https://localhost:8080/"
        },
        "outputId": "c3b3492e-f93c-4e12-850b-f923bb5ea0d5"
      },
      "source": [
        "print(np.concatenate((y_pred.reshape(len(y_pred), 1), y_test.reshape(len(y_test), 1)), 1))"
      ],
      "execution_count": 23,
      "outputs": [
        {
          "output_type": "stream",
          "text": [
            "[[ 7722.84428775  7640.666667  ]\n",
            " [ 9480.741112   10276.69903   ]\n",
            " [ 9480.741112    9229.72973   ]]\n"
          ],
          "name": "stdout"
        }
      ]
    },
    {
      "cell_type": "code",
      "metadata": {
        "id": "BH9HQJjPl-Um",
        "colab": {
          "base_uri": "https://localhost:8080/",
          "height": 357
        },
        "outputId": "8d4ec5bc-cc5c-431f-8b2a-083818849254"
      },
      "source": [
        "#scatter\n",
        "import seaborn as sns\n",
        "sns.set_style('ticks')\n",
        "sns.regplot(y_pred, y_test, data=dataset, color=\"forestgreen\", fit_reg=False)\n",
        "plt.xlim(7000,10000)\n",
        "plt.ylim(6000,11000)\n",
        "plt.xticks(rotation=45)\n",
        "plt.xlabel(\"Predicted yield (kg/ha)\")\n",
        "plt.ylabel(\"Actual yield (kg/ha)\")\n",
        "sns.despine()\n",
        "plt.savefig('escobal_518_scatter.png')"
      ],
      "execution_count": 24,
      "outputs": [
        {
          "output_type": "stream",
          "text": [
            "/usr/local/lib/python3.6/dist-packages/seaborn/_decorators.py:43: FutureWarning: Pass the following variables as keyword args: x, y. From version 0.12, the only valid positional argument will be `data`, and passing other arguments without an explicit keyword will result in an error or misinterpretation.\n",
            "  FutureWarning\n"
          ],
          "name": "stderr"
        },
        {
          "output_type": "display_data",
          "data": {
            "image/png": "[encoded data removed]",
            "text/plain": [
              "<Figure size 432x288 with 1 Axes>"
            ]
          },
          "metadata": {
            "tags": []
          }
        }
      ]
    },
    {
      "cell_type": "code",
      "metadata": {
        "id": "31fpP9sC4Esg",
        "colab": {
          "base_uri": "https://localhost:8080/"
        },
        "outputId": "44f3a537-4d1f-43a4-bb79-f23152e366ff"
      },
      "source": [
        "# feature importance\n",
        "print(regressor_random.best_params_)"
      ],
      "execution_count": 25,
      "outputs": [
        {
          "output_type": "stream",
          "text": [
            "{'n_estimators': 3666, 'min_samples_split': 5, 'min_samples_leaf': 4, 'max_features': 'auto', 'max_depth': 1, 'bootstrap': False}\n"
          ],
          "name": "stdout"
        }
      ]
    },
    {
      "cell_type": "markdown",
      "metadata": {
        "id": "D03CIuOf12zO"
      },
      "source": [
        "## Gridsearch CV"
      ]
    },
    {
      "cell_type": "code",
      "metadata": {
        "id": "7EHDrVXK2DZI"
      },
      "source": [
        "from sklearn.model_selection import GridSearchCV\n",
        "\n",
        "# Create the parameter grid based on the results of random search \n",
        "param_grid = {\n",
        "    'bootstrap': [True],\n",
        "    'max_depth': [1, 2, 4, 6, 8, 10, 12, 15],\n",
        "    'max_features': [1, 2, 3],\n",
        "    'min_samples_leaf': [2, 4, 8, 12, 16, 20, 30, 40, 50],\n",
        "    'min_samples_split': [0.5, 1, 5, 10, 20],\n",
        "    'n_estimators': [100, 200, 300, 400, 500, 600, 700, 800, 900, 1000]\n",
        "}\n",
        "\n",
        "# Create a base model\n",
        "regressor = RandomForestRegressor(random_state = 42)\n",
        "\n",
        "# Instantiate the grid search model\n",
        "grid_search = GridSearchCV(estimator = regressor, param_grid = param_grid, \n",
        "                          cv = 5, n_jobs = -1, verbose = 2, return_train_score=True)"
      ],
      "execution_count": 30,
      "outputs": []
    },
    {
      "cell_type": "code",
      "metadata": {
        "id": "x8_uRdS14FtX"
      },
      "source": [
        "# Fit the grid search to the data\n",
        "grid_search.fit(X_train, y_train);"
      ],
      "execution_count": null,
      "outputs": []
    },
    {
      "cell_type": "code",
      "metadata": {
        "id": "Q6PxgBKr5xZC"
      },
      "source": [
        "grid_search.best_params_"
      ],
      "execution_count": null,
      "outputs": []
    },
    {
      "cell_type": "code",
      "metadata": {
        "id": "CPdo-GuW8Ek5"
      },
      "source": [
        "print(np.concatenate((y_pred.reshape(len(y_pred),1), y_test.reshape(len(y_test),1)),1))"
      ],
      "execution_count": null,
      "outputs": []
    },
    {
      "cell_type": "code",
      "metadata": {
        "id": "TcL4QBDf3P39"
      },
      "source": [
        "y_pred_grid = grid_search.predict(X_test)\n",
        "from sklearn.metrics import r2_score\n",
        "from sklearn.metrics import mean_squared_error\n",
        "from sklearn.metrics import mean_absolute_error\n",
        "print(r2_score(y_test, y_pred_grid))\n",
        "print(mean_absolute_error(y_test, y_pred_grid))\n",
        "mean_squared_error(y_test, y_pred_grid)\n",
        "print(np.sqrt(mean_squared_error(y_test, y_pred_grid)))"
      ],
      "execution_count": null,
      "outputs": []
    }
  ]
}
