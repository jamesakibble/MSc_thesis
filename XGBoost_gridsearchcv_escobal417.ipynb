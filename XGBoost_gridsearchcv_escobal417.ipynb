{
  "nbformat": 4,
  "nbformat_minor": 0,
  "metadata": {
    "colab": {
      "name": "XGBoost_gridsearchcv_escobal417.ipynb",
      "provenance": [],
      "collapsed_sections": [],
      "authorship_tag": "ABX9TyPG/vxH2hF9F8jPeiXIGUnQ",
      "include_colab_link": true
    },
    "kernelspec": {
      "name": "python3",
      "display_name": "Python 3"
    }
  },
  "cells": [
    {
      "cell_type": "markdown",
      "metadata": {
        "id": "view-in-github",
        "colab_type": "text"
      },
      "source": [
        "<a href=\"https://colab.research.google.com/github/jamesakibble/MSc_thesis/blob/main/XGBoost_gridsearchcv_escobal417.ipynb\" target=\"_parent\"><img src=\"https://colab.research.google.com/assets/colab-badge.svg\" alt=\"Open In Colab\"/></a>"
      ]
    },
    {
      "cell_type": "markdown",
      "metadata": {
        "id": "P7Uwg3PPEWug"
      },
      "source": [
        "XGBoost harnessing gridsearch cv to determine the best yield prediction parameters. Actual Vs. Predicted yield and feature importance bar plot generated for further analysis of results."
      ]
    },
    {
      "cell_type": "code",
      "metadata": {
        "id": "-f-v7twddLYk"
      },
      "source": [
        "import numpy as np\n",
        "import matplotlib.pyplot as plt\n",
        "import pandas as pd\n",
        "from sklearn.model_selection import GridSearchCV\n",
        "import xgboost as xgb\n",
        "from sklearn.metrics import r2_score\n",
        "from statsmodels.stats.outliers_influence import variance_inflation_factor"
      ],
      "execution_count": null,
      "outputs": []
    },
    {
      "cell_type": "code",
      "metadata": {
        "id": "wBfxncizddqs",
        "colab": {
          "base_uri": "https://localhost:8080/"
        },
        "outputId": "8705a4cb-d7f4-4397-cc08-697c0b13e1ac"
      },
      "source": [
        "dataset = pd.read_csv('escobal_417_use.csv')\n",
        "X = dataset.iloc[:, :-1].values\n",
        "y = dataset.iloc[:, -1].values\n",
        "X=dataset.drop([\"yield\", \"seed_stage\", \"SAVI_ripe\", \"EVI_ripe\", \"NDVI_ripe\", \"EVI_repro\", \"NDVI_repro\", \"SAVI_veg\", \"SAVI_repro\", \"EVI_veg\", \"precip_airport\", \"temp_range\", \"avg_temp\", \"emer_har\", \"total_precip\", \"wet_day_freq\", \"precip_airport_meteo\", \"total_length\", \"max_temp\", \"hum\", \"min_temp\", \"sunlight\"], axis=1)\n",
        "print(X)"
      ],
      "execution_count": null,
      "outputs": [
        {
          "output_type": "stream",
          "text": [
            "   emer_season  drought_days  NDVI_veg\n",
            "0          SON             7  0.848325\n",
            "1          JJA             7  0.634768\n",
            "2          DJF             5  0.346871\n",
            "3          JJA             6  0.662926\n",
            "4          JJA             7  0.765100\n",
            "5          JJA             7  0.684492\n",
            "6          MAM             9  0.544593\n",
            "7          DJF             7  0.535999\n",
            "8          MAM             7  0.661131\n",
            "9          SON             7  0.658494\n",
            "10         JJA             9  0.497482\n",
            "11         JJA            15  0.684212\n",
            "12         DJF             6  0.362064\n",
            "13         SON             7  0.563282\n",
            "14         DJF             6  0.516336\n",
            "15         JJA             6  0.489542\n",
            "16         MAM             9  0.396192\n",
            "17         MAM             6  0.513335\n",
            "18         JJA             8  0.453235\n",
            "19         JJA            13  0.480822\n",
            "20         JJA            15  0.549389\n",
            "21         MAM             8  0.539555\n",
            "22         JJA             7  0.494455\n",
            "23         MAM            14  0.751582\n",
            "24         JJA             6  0.524560\n",
            "25         JJA            17  0.629197\n",
            "26         JJA             7  0.393838\n",
            "27         DJF             8  0.541798\n",
            "28         SON            18  0.222281\n",
            "29         MAM             8  0.796530\n",
            "30         SON             7  0.602088\n",
            "31         MAM             6  0.650016\n",
            "32         MAM            22  0.528520\n",
            "33         MAM             9  0.799743\n",
            "34         SON            12  0.607341\n",
            "35         JJA            18  0.501009\n",
            "36         SON             8  0.648236\n",
            "37         MAM            10  0.781917\n",
            "38         DJF             9  0.539147\n",
            "39         DJF            23  0.515556\n",
            "40         SON            20  0.708686\n",
            "41         JJA            23  0.340057\n",
            "42         DJF            21  0.538410\n"
          ],
          "name": "stdout"
        }
      ]
    },
    {
      "cell_type": "code",
      "metadata": {
        "id": "Ev87n4ZZXfiP"
      },
      "source": [
        "y = y.reshape(len(y),1)"
      ],
      "execution_count": null,
      "outputs": []
    },
    {
      "cell_type": "code",
      "metadata": {
        "id": "yJ7yHK1zrvQj"
      },
      "source": [
        "#Encoding categorical\r\n",
        "from sklearn.compose import ColumnTransformer\r\n",
        "from sklearn.preprocessing import OneHotEncoder\r\n",
        "ct = ColumnTransformer(transformers=[('encoder', OneHotEncoder(), [0])], remainder='passthrough')\r\n",
        "pd.get_dummies(dataset, drop_first=True)\r\n",
        "X = np.array(ct.fit_transform(X))"
      ],
      "execution_count": null,
      "outputs": []
    },
    {
      "cell_type": "code",
      "metadata": {
        "colab": {
          "base_uri": "https://localhost:8080/"
        },
        "id": "B4Asaq36Lbxs",
        "outputId": "11fa0a7c-54df-453a-ace6-1150311c6d66"
      },
      "source": [
        "print(X)"
      ],
      "execution_count": null,
      "outputs": [
        {
          "output_type": "stream",
          "text": [
            "[[ 0.    0.    0.    1.    7.    0.85]\n",
            " [ 0.    1.    0.    0.    7.    0.63]\n",
            " [ 1.    0.    0.    0.    5.    0.35]\n",
            " [ 0.    1.    0.    0.    6.    0.66]\n",
            " [ 0.    1.    0.    0.    7.    0.77]\n",
            " [ 0.    1.    0.    0.    7.    0.68]\n",
            " [ 0.    0.    1.    0.    9.    0.54]\n",
            " [ 1.    0.    0.    0.    7.    0.54]\n",
            " [ 0.    0.    1.    0.    7.    0.66]\n",
            " [ 0.    0.    0.    1.    7.    0.66]\n",
            " [ 0.    1.    0.    0.    9.    0.5 ]\n",
            " [ 0.    1.    0.    0.   15.    0.68]\n",
            " [ 1.    0.    0.    0.    6.    0.36]\n",
            " [ 0.    0.    0.    1.    7.    0.56]\n",
            " [ 1.    0.    0.    0.    6.    0.52]\n",
            " [ 0.    1.    0.    0.    6.    0.49]\n",
            " [ 0.    0.    1.    0.    9.    0.4 ]\n",
            " [ 0.    0.    1.    0.    6.    0.51]\n",
            " [ 0.    1.    0.    0.    8.    0.45]\n",
            " [ 0.    1.    0.    0.   13.    0.48]\n",
            " [ 0.    1.    0.    0.   15.    0.55]\n",
            " [ 0.    0.    1.    0.    8.    0.54]\n",
            " [ 0.    1.    0.    0.    7.    0.49]\n",
            " [ 0.    0.    1.    0.   14.    0.75]\n",
            " [ 0.    1.    0.    0.    6.    0.52]\n",
            " [ 0.    1.    0.    0.   17.    0.63]\n",
            " [ 0.    1.    0.    0.    7.    0.39]\n",
            " [ 1.    0.    0.    0.    8.    0.54]\n",
            " [ 0.    0.    0.    1.   18.    0.22]\n",
            " [ 0.    0.    1.    0.    8.    0.8 ]\n",
            " [ 0.    0.    0.    1.    7.    0.6 ]\n",
            " [ 0.    0.    1.    0.    6.    0.65]\n",
            " [ 0.    0.    1.    0.   22.    0.53]\n",
            " [ 0.    0.    1.    0.    9.    0.8 ]\n",
            " [ 0.    0.    0.    1.   12.    0.61]\n",
            " [ 0.    1.    0.    0.   18.    0.5 ]\n",
            " [ 0.    0.    0.    1.    8.    0.65]\n",
            " [ 0.    0.    1.    0.   10.    0.78]\n",
            " [ 1.    0.    0.    0.    9.    0.54]\n",
            " [ 1.    0.    0.    0.   23.    0.52]\n",
            " [ 0.    0.    0.    1.   20.    0.71]\n",
            " [ 0.    1.    0.    0.   23.    0.34]\n",
            " [ 1.    0.    0.    0.   21.    0.54]]\n"
          ],
          "name": "stdout"
        }
      ]
    },
    {
      "cell_type": "code",
      "metadata": {
        "id": "Q3zOLFIXymoF",
        "colab": {
          "base_uri": "https://localhost:8080/",
          "height": 250
        },
        "outputId": "b9698451-7b74-474e-e062-3db27268b53e"
      },
      "source": [
        "#Variance Inflation Factor (VIF) analysis to uncover non-linear collinearity - used for continuous data.\n",
        "#X.drop([\"emer_season\", \"yield\", \"SAVI_ripe\", \"EVI_ripe\", \"NDVI_ripe\", \"NDVI_repro\", \"SAVI_repro\", \"SAVI_veg\", \"NDVI_veg\", \"EVI_veg\", \"total_length\", \"temp_range\", \"max_temp\", \"hum\", \"emer_har\", \"min_temp\", \"wet_day_freq\", \"sunlight\", \"total_precip\"], axis=1)\n",
        "#vif = np.array(X, dtype=int)\n",
        "#vif\n",
        "#vif[\"features\"] = X.columns\n",
        "#vif[\"vif_Factor\"] = [variance_inflation_factor(X.values, i) for i in range(X.shape[1])]\n",
        "#print(vif)"
      ],
      "execution_count": null,
      "outputs": [
        {
          "output_type": "error",
          "ename": "ValueError",
          "evalue": "ignored",
          "traceback": [
            "\u001b[0;31m---------------------------------------------------------------------------\u001b[0m",
            "\u001b[0;31mValueError\u001b[0m                                Traceback (most recent call last)",
            "\u001b[0;32m<ipython-input-79-6041b2b72f33>\u001b[0m in \u001b[0;36m<module>\u001b[0;34m()\u001b[0m\n\u001b[1;32m      1\u001b[0m \u001b[0;31m#Variance Inflation Factor (VIF) analysis to uncover non-linear collinearity\u001b[0m\u001b[0;34m\u001b[0m\u001b[0;34m\u001b[0m\u001b[0;34m\u001b[0m\u001b[0m\n\u001b[1;32m      2\u001b[0m \u001b[0mdataset\u001b[0m\u001b[0;34m.\u001b[0m\u001b[0mdrop\u001b[0m\u001b[0;34m(\u001b[0m\u001b[0;34m[\u001b[0m\u001b[0;34m\"emer_season\"\u001b[0m\u001b[0;34m,\u001b[0m \u001b[0;34m\"yield\"\u001b[0m\u001b[0;34m,\u001b[0m \u001b[0;34m\"SAVI_ripe\"\u001b[0m\u001b[0;34m,\u001b[0m \u001b[0;34m\"EVI_ripe\"\u001b[0m\u001b[0;34m,\u001b[0m \u001b[0;34m\"NDVI_ripe\"\u001b[0m\u001b[0;34m,\u001b[0m \u001b[0;34m\"NDVI_repro\"\u001b[0m\u001b[0;34m,\u001b[0m \u001b[0;34m\"SAVI_repro\"\u001b[0m\u001b[0;34m,\u001b[0m \u001b[0;34m\"SAVI_veg\"\u001b[0m\u001b[0;34m,\u001b[0m \u001b[0;34m\"NDVI_veg\"\u001b[0m\u001b[0;34m,\u001b[0m \u001b[0;34m\"EVI_veg\"\u001b[0m\u001b[0;34m,\u001b[0m \u001b[0;34m\"total_length\"\u001b[0m\u001b[0;34m,\u001b[0m \u001b[0;34m\"temp_range\"\u001b[0m\u001b[0;34m,\u001b[0m \u001b[0;34m\"max_temp\"\u001b[0m\u001b[0;34m,\u001b[0m \u001b[0;34m\"hum\"\u001b[0m\u001b[0;34m,\u001b[0m \u001b[0;34m\"emer_har\"\u001b[0m\u001b[0;34m,\u001b[0m \u001b[0;34m\"min_temp\"\u001b[0m\u001b[0;34m,\u001b[0m \u001b[0;34m\"wet_day_freq\"\u001b[0m\u001b[0;34m,\u001b[0m \u001b[0;34m\"sunlight\"\u001b[0m\u001b[0;34m,\u001b[0m \u001b[0;34m\"total_precip\"\u001b[0m\u001b[0;34m]\u001b[0m\u001b[0;34m,\u001b[0m \u001b[0maxis\u001b[0m\u001b[0;34m=\u001b[0m\u001b[0;36m1\u001b[0m\u001b[0;34m)\u001b[0m\u001b[0;34m\u001b[0m\u001b[0;34m\u001b[0m\u001b[0m\n\u001b[0;32m----> 3\u001b[0;31m \u001b[0mvif\u001b[0m \u001b[0;34m=\u001b[0m \u001b[0mnp\u001b[0m\u001b[0;34m.\u001b[0m\u001b[0marray\u001b[0m\u001b[0;34m(\u001b[0m\u001b[0mX\u001b[0m\u001b[0;34m,\u001b[0m \u001b[0mdtype\u001b[0m\u001b[0;34m=\u001b[0m\u001b[0mint\u001b[0m\u001b[0;34m)\u001b[0m\u001b[0;34m\u001b[0m\u001b[0;34m\u001b[0m\u001b[0m\n\u001b[0m\u001b[1;32m      4\u001b[0m \u001b[0mvif\u001b[0m\u001b[0;34m\u001b[0m\u001b[0;34m\u001b[0m\u001b[0m\n\u001b[1;32m      5\u001b[0m \u001b[0mvif\u001b[0m\u001b[0;34m[\u001b[0m\u001b[0;34m\"features\"\u001b[0m\u001b[0;34m]\u001b[0m \u001b[0;34m=\u001b[0m \u001b[0mX\u001b[0m\u001b[0;34m.\u001b[0m\u001b[0mcolumns\u001b[0m\u001b[0;34m\u001b[0m\u001b[0;34m\u001b[0m\u001b[0m\n",
            "\u001b[0;31mValueError\u001b[0m: invalid literal for int() with base 10: 'JJA'"
          ]
        }
      ]
    },
    {
      "cell_type": "code",
      "metadata": {
        "id": "xRfPbv1wzrm5"
      },
      "source": [
        "def algorithm_pipeline(X_train_data, X_test_data, y_train_data, y_test_data, \r\n",
        "                       model, param_grid, cv=10, scoring_fit='neg_mean_squared_error',\r\n",
        "                       do_probabilities = False):\r\n",
        "    gs = GridSearchCV(\r\n",
        "        estimator=model,\r\n",
        "        param_grid=param_grid, \r\n",
        "        cv=cv, \r\n",
        "        n_jobs=-1, \r\n",
        "        scoring=scoring_fit,\r\n",
        "        verbose=2\r\n",
        "    )\r\n",
        "    fitted_model = gs.fit(X_train_data, y_train_data)\r\n",
        "    \r\n",
        "    if do_probabilities:\r\n",
        "      pred = fitted_model.predict_proba(X_test_data)\r\n",
        "    else:\r\n",
        "      pred = fitted_model.predict(X_test_data)\r\n",
        "    \r\n",
        "    return fitted_model, pred"
      ],
      "execution_count": null,
      "outputs": []
    },
    {
      "cell_type": "code",
      "metadata": {
        "id": "e4-ifMsZdhr0"
      },
      "source": [
        "# Split data 80% train, 20% test for model testing\n",
        "from sklearn.model_selection import train_test_split\n",
        "X_train, X_test, y_train, y_test = train_test_split(X, y, test_size = 0.2, random_state = 42)"
      ],
      "execution_count": null,
      "outputs": []
    },
    {
      "cell_type": "code",
      "metadata": {
        "id": "hasuNRnlK0WH",
        "colab": {
          "base_uri": "https://localhost:8080/"
        },
        "outputId": "d5516c12-9b83-41ae-fc4f-2c7b970663a7"
      },
      "source": [
        "model = xgb.XGBRegressor()\n",
        "param_grid = {\n",
        "    'n_estimators': [200, 300, 400, 500, 600, 700, 800, 1000],\n",
        "    'colsample_bytree': [0.2, 0.5, 1, 2, 4],\n",
        "    'max_depth': [1,2,5,10, 15],\n",
        "    'reg_alpha': [1, 2, 5, 10, 15],\n",
        "    'reg_lambda': [1, 5, 10, 15],\n",
        "    'subsample': [0.1, 0.5, 1, 2]\n",
        "}\n",
        "\n",
        "model, pred = algorithm_pipeline(X_train, X_test, y_train, y_test, model, \n",
        "                                 param_grid, cv=5)"
      ],
      "execution_count": null,
      "outputs": [
        {
          "output_type": "stream",
          "text": [
            "Fitting 5 folds for each of 16000 candidates, totalling 80000 fits\n"
          ],
          "name": "stdout"
        },
        {
          "output_type": "stream",
          "text": [
            "[Parallel(n_jobs=-1)]: Using backend LokyBackend with 2 concurrent workers.\n",
            "[Parallel(n_jobs=-1)]: Done 396 tasks      | elapsed:    3.2s\n",
            "[Parallel(n_jobs=-1)]: Done 2332 tasks      | elapsed:   28.9s\n",
            "[Parallel(n_jobs=-1)]: Done 5580 tasks      | elapsed:  1.3min\n",
            "[Parallel(n_jobs=-1)]: Done 10108 tasks      | elapsed:  2.6min\n",
            "[Parallel(n_jobs=-1)]: Done 15948 tasks      | elapsed:  4.2min\n",
            "[Parallel(n_jobs=-1)]: Done 23068 tasks      | elapsed:  6.1min\n",
            "[Parallel(n_jobs=-1)]: Done 28802 tasks      | elapsed:  8.2min\n",
            "[Parallel(n_jobs=-1)]: Done 36380 tasks      | elapsed: 10.3min\n",
            "[Parallel(n_jobs=-1)]: Done 43304 tasks      | elapsed: 12.8min\n",
            "[Parallel(n_jobs=-1)]: Done 58320 tasks      | elapsed: 15.3min\n",
            "[Parallel(n_jobs=-1)]: Done 80000 out of 80000 | elapsed: 15.9min finished\n"
          ],
          "name": "stderr"
        },
        {
          "output_type": "stream",
          "text": [
            "[19:13:53] WARNING: /workspace/src/objective/regression_obj.cu:152: reg:linear is now deprecated in favor of reg:squarederror.\n"
          ],
          "name": "stdout"
        }
      ]
    },
    {
      "cell_type": "code",
      "metadata": {
        "id": "9S_7T1Ixhh9P",
        "colab": {
          "base_uri": "https://localhost:8080/"
        },
        "outputId": "8340af6c-9451-4e02-e456-8d8e5e30073a"
      },
      "source": [
        "y_pred_grid = model.predict(X_test)\n",
        "from sklearn.metrics import r2_score\n",
        "from sklearn.metrics import mean_squared_error\n",
        "from sklearn.metrics import mean_absolute_error\n",
        "print(r2_score(y_test, y_pred_grid))\n",
        "print(mean_absolute_error(y_test, y_pred_grid))\n",
        "mean_squared_error(y_test, y_pred_grid)\n",
        "print(np.sqrt(mean_squared_error(y_test, y_pred_grid)))\n",
        "model.best_estimator_"
      ],
      "execution_count": null,
      "outputs": [
        {
          "output_type": "stream",
          "text": [
            "0.5376047857958611\n",
            "693.7344960312503\n",
            "913.6256253930815\n"
          ],
          "name": "stdout"
        },
        {
          "output_type": "execute_result",
          "data": {
            "text/plain": [
              "XGBRegressor(base_score=0.5, booster='gbtree', colsample_bylevel=1,\n",
              "             colsample_bynode=1, colsample_bytree=1, gamma=0,\n",
              "             importance_type='gain', learning_rate=0.1, max_delta_step=0,\n",
              "             max_depth=1, min_child_weight=1, missing=None, n_estimators=1000,\n",
              "             n_jobs=1, nthread=None, objective='reg:linear', random_state=0,\n",
              "             reg_alpha=10, reg_lambda=1, scale_pos_weight=1, seed=None,\n",
              "             silent=None, subsample=0.1, verbosity=1)"
            ]
          },
          "metadata": {
            "tags": []
          },
          "execution_count": 95
        }
      ]
    },
    {
      "cell_type": "code",
      "metadata": {
        "id": "b4s31NMLItxp",
        "colab": {
          "base_uri": "https://localhost:8080/"
        },
        "outputId": "0421dc66-80f4-4a9e-d48c-4b3f2b18557b"
      },
      "source": [
        "# Mode parameters from best results\r\n",
        "model.best_params_"
      ],
      "execution_count": null,
      "outputs": [
        {
          "output_type": "execute_result",
          "data": {
            "text/plain": [
              "{'colsample_bytree': 1,\n",
              " 'max_depth': 1,\n",
              " 'n_estimators': 1000,\n",
              " 'reg_alpha': 10,\n",
              " 'reg_lambda': 1,\n",
              " 'subsample': 0.1}"
            ]
          },
          "metadata": {
            "tags": []
          },
          "execution_count": 79
        }
      ]
    },
    {
      "cell_type": "code",
      "metadata": {
        "id": "8SqxjlyhVY7O",
        "colab": {
          "base_uri": "https://localhost:8080/"
        },
        "outputId": "934e727e-0fdc-489a-9bf4-0cdd1956630f"
      },
      "source": [
        "# Comparing model predicted yield to actual yield values\n",
        "np.set_printoptions(precision=2)\n",
        "print(np.concatenate((y_pred_grid.reshape(len(y_pred_grid), 1), y_test.reshape(len(y_test), 1)), 1))"
      ],
      "execution_count": null,
      "outputs": [
        {
          "output_type": "stream",
          "text": [
            "[[9032.72 8966.23]\n",
            " [7001.43 8433.88]\n",
            " [7507.22 8937.64]\n",
            " [7215.33 5545.69]\n",
            " [6897.77 6359.57]\n",
            " [9480.29 9134.88]\n",
            " [8749.3  9118.18]\n",
            " [6705.21 6887.57]\n",
            " [9556.85 9347.08]]\n"
          ],
          "name": "stdout"
        }
      ]
    },
    {
      "cell_type": "code",
      "metadata": {
        "id": "Ic9BY30FSBCE",
        "colab": {
          "base_uri": "https://localhost:8080/",
          "height": 357
        },
        "outputId": "867303cd-29b9-4b23-e809-45c73b719ee5"
      },
      "source": [
        "#Predicted vs actual yield scatter graph\n",
        "import seaborn as sns\n",
        "sns.set_style('ticks')\n",
        "sns.regplot(y_pred_grid, y_test, data=dataset, color=\"forestgreen\", fit_reg=False)\n",
        "#np.concatenate((y_pred_grid.reshape(len(y_pred_grid), 1), y_test.reshape(len(y_test), 1)), 1)\n",
        "plt.xlim(7000,10500)\n",
        "plt.ylim(7000,10500)\n",
        "plt.xticks(rotation=45)\n",
        "plt.xlabel(\"Predicted yield (kg/ha)\")\n",
        "plt.ylabel(\"Actual yield (kg/ha)\")\n",
        "sns.despine()\n",
        "plt.savefig('fed67_scatter.png')"
      ],
      "execution_count": null,
      "outputs": [
        {
          "output_type": "stream",
          "text": [
            "/usr/local/lib/python3.6/dist-packages/seaborn/_decorators.py:43: FutureWarning: Pass the following variables as keyword args: x, y. From version 0.12, the only valid positional argument will be `data`, and passing other arguments without an explicit keyword will result in an error or misinterpretation.\n",
            "  FutureWarning\n"
          ],
          "name": "stderr"
        },
        {
          "output_type": "display_data",
          "data": {
            "image/png": "[encoded data removed]",
            "text/plain": [
              "<Figure size 432x288 with 1 Axes>"
            ]
          },
          "metadata": {
            "tags": []
          }
        }
      ]
    },
    {
      "cell_type": "code",
      "metadata": {
        "id": "4tsHEY8Nppg9",
        "colab": {
          "base_uri": "https://localhost:8080/",
          "height": 296
        },
        "outputId": "59920b4b-38e9-4f8c-a01c-68fbf3aa84cb"
      },
      "source": [
        "# Feature importance bar plot of variables influence on yield prediction\n",
        "print(model.best_estimator_.feature_importances_)\n",
        "# Plotting\n",
        "plt.bar(range(len(model.best_estimator_.feature_importances_)), model.best_estimator_.feature_importances_)\n",
        "model.best_estimator_. get_booster().get_score(importance_type=\"gain\")\n",
        "plt.xlabel(\"Variable\")\n",
        "plt.ylabel(\"Feature Importance\")\n",
        "plt.show()"
      ],
      "execution_count": null,
      "outputs": [
        {
          "output_type": "stream",
          "text": [
            "[0.07 0.16 0.21 0.17 0.18 0.21]\n"
          ],
          "name": "stdout"
        },
        {
          "output_type": "display_data",
          "data": {
            "image/png": "[encoded data removed]",
            "text/plain": [
              "<Figure size 432x288 with 1 Axes>"
            ]
          },
          "metadata": {
            "tags": []
          }
        }
      ]
    }
  ]
}